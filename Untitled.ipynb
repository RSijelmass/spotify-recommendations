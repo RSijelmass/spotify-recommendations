{
 "cells": [
  {
   "cell_type": "markdown",
   "metadata": {},
   "source": [
    "## Setup"
   ]
  },
  {
   "cell_type": "code",
   "execution_count": 21,
   "metadata": {},
   "outputs": [
    {
     "name": "stdout",
     "output_type": "stream",
     "text": [
      "The dotenv extension is already loaded. To reload it, use:\n",
      "  %reload_ext dotenv\n"
     ]
    }
   ],
   "source": [
    "import os\n",
    "import numpy as np\n",
    "import pandas as pd #Dataframe, Series\n",
    "from dotenv import load_dotenv\n",
    "\n",
    "import sys\n",
    "import spotipy\n",
    "import spotipy.util as util\n",
    "from spotipy.oauth2 import SpotifyClientCredentials \n",
    "\n",
    "from matplotlib import pyplot as plt\n",
    "\n",
    "%load_ext dotenv\n",
    "%dotenv\n",
    "%matplotlib inline"
   ]
  },
  {
   "cell_type": "markdown",
   "metadata": {},
   "source": [
    "## Spotify Login\n",
    "The below will bring you to a new page to log you in. For own use, make sure to fill in the necessary variables within your `.env` file."
   ]
  },
  {
   "cell_type": "code",
   "execution_count": 3,
   "metadata": {},
   "outputs": [],
   "source": [
    "username = \"\"\n",
    "scope = 'user-library-read'\n",
    "token = util.prompt_for_user_token(username,scope,client_id=os.environ['SPOTIPY_CLIENT_ID'],\n",
    "                                   client_secret=os.environ['SPOTIPY_CLIENT_SECRET'],\n",
    "                                   redirect_uri=os.environ['SPOTIPY_REDIRECT_URI'])\n",
    "sp = spotipy.Spotify(auth=token)"
   ]
  },
  {
   "cell_type": "markdown",
   "metadata": {},
   "source": [
    "To test whether the data works, I am going to print out the last songs that have been added to my account.\n"
   ]
  },
  {
   "cell_type": "code",
   "execution_count": 4,
   "metadata": {},
   "outputs": [
    {
     "name": "stdout",
     "output_type": "stream",
     "text": [
      "Dame Tu Consuelo - Mateo Kingman\n",
      "11 PM - Maluma\n",
      "HP - Maluma\n",
      "No Se Me Quita (feat. Ricky Martin) - Maluma\n",
      "Dispuesto (feat. Ozuna) - Maluma\n",
      "No Puedo Olvidarte (feat. Nicky Jam) - Maluma\n",
      "Me Enamoré de Ti - Maluma\n",
      "Extrañándote (feat. Zion & Lennox) - Maluma\n",
      "Shhh (Calla') - Maluma\n",
      "Dinero Tiene Cualquiera - Maluma\n",
      "Soltera (feat. Madonna) - Maluma\n",
      "Te Quiero - Maluma\n",
      "Instinto Natural (feat. Sech) - Maluma\n",
      "Tu Vecina (feat. Ty Dolla $ign) - Maluma\n",
      "La Flaca (feat. Chencho Corleone) - Maluma\n",
      "Puesto Pa' Ti (feat. Farina) - Maluma\n",
      "Déjale Saber - Maluma\n",
      "Something In The Way - Jorja Smith\n",
      "Certo - Perotá Chingò\n",
      "Mira - Panga Nébula\n"
     ]
    }
   ],
   "source": [
    "scope = 'user-library-read'\n",
    "\n",
    "if len(sys.argv) > 1:\n",
    "    username = sys.argv[1]\n",
    "else:\n",
    "    print(\"Usage: %s username\" % (sys.argv[0],))\n",
    "    sys.exit()\n",
    "\n",
    "if token:\n",
    "    sp = spotipy.Spotify(auth=token)\n",
    "    results = sp.current_user_saved_tracks()\n",
    "    for item in results['items']:\n",
    "        track = item['track']\n",
    "        print(track['name'] + ' - ' + track['artists'][0]['name'])\n",
    "else:\n",
    "    print(\"Can't get token for\", username)"
   ]
  },
  {
   "cell_type": "markdown",
   "metadata": {},
   "source": [
    "## Data Gathering\n",
    "Now we need to gather the data; tracks I like and tracks I dislike. I have put together a playlist of songs I enjoy, and this can be fetched by the method `sp.user_playlist(<USER_ID>, <PLAYLIST_ID)`.\n",
    "\n",
    "The User ID you can get by getting the sharing link of your user account, it's the number after `http://open.spotify.com/user/`.\n",
    "\n",
    "The Playlist ID you can get by fetching the sharing link of the playlist, between `playlist/` and the questionmark `?`."
   ]
  },
  {
   "cell_type": "code",
   "execution_count": 13,
   "metadata": {},
   "outputs": [
    {
     "name": "stdout",
     "output_type": "stream",
     "text": [
      "length good playlist:  1099\n",
      "length bad playlist:  110\n"
     ]
    }
   ],
   "source": [
    "def populate_ids(playlist):\n",
    "    ids = []\n",
    "    tracks = playlist[\"tracks\"]\n",
    "    songs = tracks[\"items\"] \n",
    "    \n",
    "    while tracks['next']:\n",
    "        tracks = sp.next(tracks)\n",
    "        for item in tracks[\"items\"]:\n",
    "            songs.append(item)\n",
    "            \n",
    "    for song in songs:\n",
    "        ids.append(song['track']['id']) \n",
    "    return ids\n",
    "\n",
    "# \"Good\" Songs\n",
    "good_playlist = sp.user_playlist(\"118049859\", \"2UVYOKEqsq9VNLfj1w9eJY\")\n",
    "good_ids = populate_ids(good_playlist)\n",
    "\n",
    "# \"Bad\" Songs\n",
    "bad_playlist = sp.user_playlist(\"118049859\", \"3Chmr7xcj52vd6eItEsMj1\")\n",
    "bad_ids = populate_ids(bad_playlist)\n",
    "\n",
    "print(\"length good playlist: \", len(good_ids))\n",
    "print(\"length bad playlist: \", len(bad_ids))"
   ]
  },
  {
   "cell_type": "code",
   "execution_count": 14,
   "metadata": {},
   "outputs": [],
   "source": [
    "def add_to_features(ids, target):\n",
    "    for i in range(0,len(ids),50):\n",
    "        audio_features = sp.audio_features(good_ids[i:i+50])\n",
    "        for track in audio_features:\n",
    "            features.append(track)\n",
    "            features[-1]['target'] = target\n",
    "\n",
    "# we are splitting the \"good\" and \"bad\" tracks by giving a different target value\n",
    "features = []\n",
    "add_to_features(good_ids, 1)\n",
    "add_to_features(bad_ids, 0)"
   ]
  },
  {
   "cell_type": "markdown",
   "metadata": {},
   "source": [
    "## Data Analysis\n",
    "Now let's have a look at the data we have been collecting. First, let's see what data we are receiving from Spotify. We see features like `acousticness`, `danceability` and `instrumentalness` that already seem interesting."
   ]
  },
  {
   "cell_type": "code",
   "execution_count": 15,
   "metadata": {},
   "outputs": [
    {
     "data": {
      "text/html": [
       "<div>\n",
       "<style scoped>\n",
       "    .dataframe tbody tr th:only-of-type {\n",
       "        vertical-align: middle;\n",
       "    }\n",
       "\n",
       "    .dataframe tbody tr th {\n",
       "        vertical-align: top;\n",
       "    }\n",
       "\n",
       "    .dataframe thead th {\n",
       "        text-align: right;\n",
       "    }\n",
       "</style>\n",
       "<table border=\"1\" class=\"dataframe\">\n",
       "  <thead>\n",
       "    <tr style=\"text-align: right;\">\n",
       "      <th></th>\n",
       "      <th>acousticness</th>\n",
       "      <th>analysis_url</th>\n",
       "      <th>danceability</th>\n",
       "      <th>duration_ms</th>\n",
       "      <th>energy</th>\n",
       "      <th>id</th>\n",
       "      <th>instrumentalness</th>\n",
       "      <th>key</th>\n",
       "      <th>liveness</th>\n",
       "      <th>loudness</th>\n",
       "      <th>mode</th>\n",
       "      <th>speechiness</th>\n",
       "      <th>target</th>\n",
       "      <th>tempo</th>\n",
       "      <th>time_signature</th>\n",
       "      <th>track_href</th>\n",
       "      <th>type</th>\n",
       "      <th>uri</th>\n",
       "      <th>valence</th>\n",
       "    </tr>\n",
       "  </thead>\n",
       "  <tbody>\n",
       "    <tr>\n",
       "      <th>0</th>\n",
       "      <td>0.0859</td>\n",
       "      <td>https://api.spotify.com/v1/audio-analysis/1ONQ...</td>\n",
       "      <td>0.328</td>\n",
       "      <td>282296</td>\n",
       "      <td>0.298</td>\n",
       "      <td>1ONQlRiCdcB8fTrZNqjq9x</td>\n",
       "      <td>0.000458</td>\n",
       "      <td>0</td>\n",
       "      <td>0.1230</td>\n",
       "      <td>-13.769</td>\n",
       "      <td>1</td>\n",
       "      <td>0.0333</td>\n",
       "      <td>1</td>\n",
       "      <td>168.142</td>\n",
       "      <td>4</td>\n",
       "      <td>https://api.spotify.com/v1/tracks/1ONQlRiCdcB8...</td>\n",
       "      <td>audio_features</td>\n",
       "      <td>spotify:track:1ONQlRiCdcB8fTrZNqjq9x</td>\n",
       "      <td>0.374</td>\n",
       "    </tr>\n",
       "    <tr>\n",
       "      <th>1</th>\n",
       "      <td>0.9230</td>\n",
       "      <td>https://api.spotify.com/v1/audio-analysis/7zyz...</td>\n",
       "      <td>0.616</td>\n",
       "      <td>191135</td>\n",
       "      <td>0.187</td>\n",
       "      <td>7zyz52PSMHpxkCeyyhWE03</td>\n",
       "      <td>0.000000</td>\n",
       "      <td>7</td>\n",
       "      <td>0.1170</td>\n",
       "      <td>-9.552</td>\n",
       "      <td>1</td>\n",
       "      <td>0.0671</td>\n",
       "      <td>1</td>\n",
       "      <td>166.925</td>\n",
       "      <td>4</td>\n",
       "      <td>https://api.spotify.com/v1/tracks/7zyz52PSMHpx...</td>\n",
       "      <td>audio_features</td>\n",
       "      <td>spotify:track:7zyz52PSMHpxkCeyyhWE03</td>\n",
       "      <td>0.413</td>\n",
       "    </tr>\n",
       "    <tr>\n",
       "      <th>2</th>\n",
       "      <td>0.6190</td>\n",
       "      <td>https://api.spotify.com/v1/audio-analysis/6XOy...</td>\n",
       "      <td>0.683</td>\n",
       "      <td>198613</td>\n",
       "      <td>0.565</td>\n",
       "      <td>6XOyWTU6Q35l7sZwl5lVes</td>\n",
       "      <td>0.000005</td>\n",
       "      <td>7</td>\n",
       "      <td>0.1220</td>\n",
       "      <td>-9.161</td>\n",
       "      <td>0</td>\n",
       "      <td>0.1200</td>\n",
       "      <td>1</td>\n",
       "      <td>112.896</td>\n",
       "      <td>5</td>\n",
       "      <td>https://api.spotify.com/v1/tracks/6XOyWTU6Q35l...</td>\n",
       "      <td>audio_features</td>\n",
       "      <td>spotify:track:6XOyWTU6Q35l7sZwl5lVes</td>\n",
       "      <td>0.508</td>\n",
       "    </tr>\n",
       "    <tr>\n",
       "      <th>3</th>\n",
       "      <td>0.4240</td>\n",
       "      <td>https://api.spotify.com/v1/audio-analysis/31xB...</td>\n",
       "      <td>0.747</td>\n",
       "      <td>174381</td>\n",
       "      <td>0.665</td>\n",
       "      <td>31xBPbLPTA2pscW0TAbt4D</td>\n",
       "      <td>0.005560</td>\n",
       "      <td>2</td>\n",
       "      <td>0.1440</td>\n",
       "      <td>-6.853</td>\n",
       "      <td>0</td>\n",
       "      <td>0.2040</td>\n",
       "      <td>1</td>\n",
       "      <td>176.075</td>\n",
       "      <td>4</td>\n",
       "      <td>https://api.spotify.com/v1/tracks/31xBPbLPTA2p...</td>\n",
       "      <td>audio_features</td>\n",
       "      <td>spotify:track:31xBPbLPTA2pscW0TAbt4D</td>\n",
       "      <td>0.426</td>\n",
       "    </tr>\n",
       "    <tr>\n",
       "      <th>4</th>\n",
       "      <td>0.4220</td>\n",
       "      <td>https://api.spotify.com/v1/audio-analysis/7zFX...</td>\n",
       "      <td>0.658</td>\n",
       "      <td>278180</td>\n",
       "      <td>0.294</td>\n",
       "      <td>7zFXmv6vqI4qOt4yGf3jYZ</td>\n",
       "      <td>0.000052</td>\n",
       "      <td>4</td>\n",
       "      <td>0.0749</td>\n",
       "      <td>-8.533</td>\n",
       "      <td>0</td>\n",
       "      <td>0.0321</td>\n",
       "      <td>1</td>\n",
       "      <td>74.038</td>\n",
       "      <td>4</td>\n",
       "      <td>https://api.spotify.com/v1/tracks/7zFXmv6vqI4q...</td>\n",
       "      <td>audio_features</td>\n",
       "      <td>spotify:track:7zFXmv6vqI4qOt4yGf3jYZ</td>\n",
       "      <td>0.358</td>\n",
       "    </tr>\n",
       "  </tbody>\n",
       "</table>\n",
       "</div>"
      ],
      "text/plain": [
       "   acousticness                                       analysis_url  \\\n",
       "0        0.0859  https://api.spotify.com/v1/audio-analysis/1ONQ...   \n",
       "1        0.9230  https://api.spotify.com/v1/audio-analysis/7zyz...   \n",
       "2        0.6190  https://api.spotify.com/v1/audio-analysis/6XOy...   \n",
       "3        0.4240  https://api.spotify.com/v1/audio-analysis/31xB...   \n",
       "4        0.4220  https://api.spotify.com/v1/audio-analysis/7zFX...   \n",
       "\n",
       "   danceability  duration_ms  energy                      id  \\\n",
       "0         0.328       282296   0.298  1ONQlRiCdcB8fTrZNqjq9x   \n",
       "1         0.616       191135   0.187  7zyz52PSMHpxkCeyyhWE03   \n",
       "2         0.683       198613   0.565  6XOyWTU6Q35l7sZwl5lVes   \n",
       "3         0.747       174381   0.665  31xBPbLPTA2pscW0TAbt4D   \n",
       "4         0.658       278180   0.294  7zFXmv6vqI4qOt4yGf3jYZ   \n",
       "\n",
       "   instrumentalness  key  liveness  loudness  mode  speechiness  target  \\\n",
       "0          0.000458    0    0.1230   -13.769     1       0.0333       1   \n",
       "1          0.000000    7    0.1170    -9.552     1       0.0671       1   \n",
       "2          0.000005    7    0.1220    -9.161     0       0.1200       1   \n",
       "3          0.005560    2    0.1440    -6.853     0       0.2040       1   \n",
       "4          0.000052    4    0.0749    -8.533     0       0.0321       1   \n",
       "\n",
       "     tempo  time_signature                                         track_href  \\\n",
       "0  168.142               4  https://api.spotify.com/v1/tracks/1ONQlRiCdcB8...   \n",
       "1  166.925               4  https://api.spotify.com/v1/tracks/7zyz52PSMHpx...   \n",
       "2  112.896               5  https://api.spotify.com/v1/tracks/6XOyWTU6Q35l...   \n",
       "3  176.075               4  https://api.spotify.com/v1/tracks/31xBPbLPTA2p...   \n",
       "4   74.038               4  https://api.spotify.com/v1/tracks/7zFXmv6vqI4q...   \n",
       "\n",
       "             type                                   uri  valence  \n",
       "0  audio_features  spotify:track:1ONQlRiCdcB8fTrZNqjq9x    0.374  \n",
       "1  audio_features  spotify:track:7zyz52PSMHpxkCeyyhWE03    0.413  \n",
       "2  audio_features  spotify:track:6XOyWTU6Q35l7sZwl5lVes    0.508  \n",
       "3  audio_features  spotify:track:31xBPbLPTA2pscW0TAbt4D    0.426  \n",
       "4  audio_features  spotify:track:7zFXmv6vqI4qOt4yGf3jYZ    0.358  "
      ]
     },
     "execution_count": 15,
     "metadata": {},
     "output_type": "execute_result"
    }
   ],
   "source": [
    "trainingData = pd.DataFrame(features)\n",
    "trainingData.head()"
   ]
  },
  {
   "cell_type": "code",
   "execution_count": 17,
   "metadata": {},
   "outputs": [],
   "source": [
    "# To be refactored, currently present to have a quick look around the data.\n",
    "\n",
    "pos_tempo = trainingData[trainingData['target'] == 1]['tempo']\n",
    "neg_tempo = trainingData[trainingData['target'] == 0]['tempo']\n",
    "pos_dance = trainingData[trainingData['target'] == 1]['danceability']\n",
    "neg_dance = trainingData[trainingData['target'] == 0]['danceability']\n",
    "pos_duration = trainingData[trainingData['target'] == 1]['duration_ms']\n",
    "neg_duration = trainingData[trainingData['target'] == 0]['duration_ms']\n",
    "pos_loudness = trainingData[trainingData['target'] == 1]['loudness']\n",
    "neg_loudness = trainingData[trainingData['target'] == 0]['loudness']\n",
    "pos_speechiness = trainingData[trainingData['target'] == 1]['speechiness']\n",
    "neg_speechiness = trainingData[trainingData['target'] == 0]['speechiness']\n",
    "pos_valence = trainingData[trainingData['target'] == 1]['valence']\n",
    "neg_valence = trainingData[trainingData['target'] == 0]['valence']\n",
    "pos_energy = trainingData[trainingData['target'] == 1]['energy']\n",
    "neg_energy = trainingData[trainingData['target'] == 0]['energy']\n",
    "pos_acousticness = trainingData[trainingData['target'] == 1]['acousticness']\n",
    "neg_acousticness = trainingData[trainingData['target'] == 0]['acousticness']\n",
    "pos_key = trainingData[trainingData['target'] == 1]['key']\n",
    "neg_key = trainingData[trainingData['target'] == 0]['key']\n",
    "pos_instrumentalness = trainingData[trainingData['target'] == 1]['instrumentalness']\n",
    "neg_instrumentalness = trainingData[trainingData['target'] == 0]['instrumentalness']"
   ]
  },
  {
   "cell_type": "code",
   "execution_count": 27,
   "metadata": {},
   "outputs": [
    {
     "data": {
      "text/plain": [
       "<matplotlib.legend.Legend at 0x120aaef98>"
      ]
     },
     "execution_count": 27,
     "metadata": {},
     "output_type": "execute_result"
    },
    {
     "data": {
      "image/png": "[encoded data removed]",
      "text/plain": [
       "<Figure size 864x576 with 1 Axes>"
      ]
     },
     "metadata": {
      "needs_background": "light"
     },
     "output_type": "display_data"
    }
   ],
   "source": [
    "fig = plt.figure(figsize=(12,8))\n",
    "plt.title(\"Song Tempo Like / Dislike Distribution\")\n",
    "pos_valence.hist(alpha=0.7, bins=30, label='positive')\n",
    "neg_valence.hist(alpha=0.7, bins=30, label='negative')\n",
    "plt.legend(loc='upper right')"
   ]
  },
  {
   "cell_type": "code",
   "execution_count": null,
   "metadata": {},
   "outputs": [],
   "source": []
  }
 ],
 "metadata": {
  "kernelspec": {
   "display_name": "Python 3",
   "language": "python",
   "name": "python3"
  }
 },
 "nbformat": 4,
 "nbformat_minor": 2
}
