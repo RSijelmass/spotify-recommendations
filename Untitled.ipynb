{
 "cells": [
  {
   "cell_type": "markdown",
   "metadata": {},
   "source": [
    "## Setup"
   ]
  },
  {
   "cell_type": "code",
   "execution_count": 4,
   "metadata": {},
   "outputs": [
    {
     "name": "stdout",
     "output_type": "stream",
     "text": [
      "The dotenv extension is already loaded. To reload it, use:\n",
      "  %reload_ext dotenv\n"
     ]
    }
   ],
   "source": [
    "from dotenv import load_dotenv\n",
    "import sys\n",
    "import spotipy\n",
    "import spotipy.util as util\n",
    "sp = spotipy.Spotify() \n",
    "from spotipy.oauth2 import SpotifyClientCredentials \n",
    "\n",
    "%load_ext dotenv\n",
    "%dotenv"
   ]
  },
  {
   "cell_type": "markdown",
   "metadata": {},
   "source": [
    "## Spotify Login\n",
    "The below will bring you to a new page to log you in. For own use, make sure to fill in the necessary variables within your `.env` file."
   ]
  },
  {
   "cell_type": "code",
   "execution_count": 2,
   "metadata": {},
   "outputs": [],
   "source": [
    "username = \"\"\n",
    "scope = 'user-library-read'\n",
    "token = util.prompt_for_user_token(username,scope,client_id=os.environ['SPOTIPY_CLIENT_ID'],\n",
    "                                   client_secret=os.environ['SPOTIPY_CLIENT_SECRET'],\n",
    "                                   redirect_uri=os.environ['SPOTIPY_REDIRECT_URI'])\n",
    "sp = spotipy.Spotify(auth=token)"
   ]
  },
  {
   "cell_type": "code",
   "execution_count": 3,
   "metadata": {},
   "outputs": [
    {
     "name": "stdout",
     "output_type": "stream",
     "text": [
      "11 PM - Maluma\n",
      "HP - Maluma\n",
      "No Se Me Quita (feat. Ricky Martin) - Maluma\n",
      "Dispuesto (feat. Ozuna) - Maluma\n",
      "No Puedo Olvidarte (feat. Nicky Jam) - Maluma\n",
      "Me Enamoré de Ti - Maluma\n",
      "Extrañándote (feat. Zion & Lennox) - Maluma\n",
      "Shhh (Calla') - Maluma\n",
      "Dinero Tiene Cualquiera - Maluma\n",
      "Soltera (feat. Madonna) - Maluma\n",
      "Te Quiero - Maluma\n",
      "Instinto Natural (feat. Sech) - Maluma\n",
      "Tu Vecina (feat. Ty Dolla $ign) - Maluma\n",
      "La Flaca (feat. Chencho Corleone) - Maluma\n",
      "Puesto Pa' Ti (feat. Farina) - Maluma\n",
      "Déjale Saber - Maluma\n",
      "Something In The Way - Jorja Smith\n",
      "Certo - Perotá Chingò\n",
      "Mira - Panga Nébula\n",
      "Hurricane Ballad - Palta & the mood\n"
     ]
    }
   ],
   "source": [
    "scope = 'user-library-read'\n",
    "\n",
    "if len(sys.argv) > 1:\n",
    "    username = sys.argv[1]\n",
    "else:\n",
    "    print(\"Usage: %s username\" % (sys.argv[0],))\n",
    "    sys.exit()\n",
    "\n",
    "if token:\n",
    "    sp = spotipy.Spotify(auth=token)\n",
    "    results = sp.current_user_saved_tracks()\n",
    "    for item in results['items']:\n",
    "        track = item['track']\n",
    "        print(track['name'] + ' - ' + track['artists'][0]['name'])\n",
    "else:\n",
    "    print(\"Can't get token for\", username)"
   ]
  },
  {
   "cell_type": "code",
   "execution_count": null,
   "metadata": {},
   "outputs": [],
   "source": []
  },
  {
   "cell_type": "code",
   "execution_count": null,
   "metadata": {},
   "outputs": [],
   "source": []
  }
 ],
 "metadata": {
  "kernelspec": {
   "display_name": "Python 3",
   "language": "python",
   "name": "python3"
  },
  "language_info": {
   "codemirror_mode": {
    "name": "ipython",
    "version": 3
   },
   "file_extension": ".py",
   "mimetype": "text/x-python",
   "name": "python",
   "nbconvert_exporter": "python",
   "pygments_lexer": "ipython3",
   "version": "3.7.3"
  }
 },
 "nbformat": 4,
 "nbformat_minor": 2
}
